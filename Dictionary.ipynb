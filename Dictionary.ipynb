{
 "cells": [
  {
   "cell_type": "markdown",
   "metadata": {},
   "source": [
    "# Dictionary"
   ]
  },
  {
   "cell_type": "markdown",
   "metadata": {},
   "source": [
    "## CRUD"
   ]
  },
  {
   "cell_type": "markdown",
   "metadata": {},
   "source": [
    "**Create**"
   ]
  },
  {
   "cell_type": "code",
   "execution_count": 38,
   "metadata": {},
   "outputs": [
    {
     "name": "stdout",
     "output_type": "stream",
     "text": [
      "{1: 'one', 2: 'two', 3: 'three'}\n",
      "<class 'dict'>\n",
      "<class 'dict'>\n",
      "{'one': 1, 'two': 2}\n",
      "{1: 'one', 2: 'two', 3: 'three'}\n",
      "{'Alice': 0, 'Bob': 0, 'Charlie': 0}\n"
     ]
    }
   ],
   "source": [
    "dict_1 = {1:\"one\", 2:\"two\", 3:\"three\"}\n",
    "\n",
    "# create empty dict\n",
    "dict_2 = {}\n",
    "dict_3 = dict()\n",
    "\n",
    "# create dict from two lists\n",
    "list_1 = [\"one\", \"two\"]\n",
    "list_2 = [1, 2]\n",
    "dict_4 = dict(zip(list_1, list_2))\n",
    "\n",
    "# create dict from two dimension lists or tuples\n",
    "list_3 = [\n",
    "    [1, \"one\"],\n",
    "    [2, \"two\"],\n",
    "    [3, \"three\"]\n",
    "]\n",
    "dict_5 = dict(list_3)\n",
    "\n",
    "# create dict from sequence with the same values\n",
    "list_3 = [\"Alice\", \"Bob\", \"Charlie\"]\n",
    "value = 0\n",
    "dict_6 = dict.fromkeys(list_3, value)\n",
    "\n",
    "print(dict_1)\n",
    "print(type(dict_2))\n",
    "print(type(dict_3))\n",
    "print(dict_4)\n",
    "print(dict_5)\n",
    "print(dict_6)"
   ]
  },
  {
   "cell_type": "markdown",
   "metadata": {},
   "source": [
    "**Add**"
   ]
  },
  {
   "cell_type": "code",
   "execution_count": 17,
   "metadata": {},
   "outputs": [
    {
     "name": "stdout",
     "output_type": "stream",
     "text": [
      "{'one': 1, 'two': 2}\n",
      "{'one': 1, 'two': 2, 'three': 3}\n"
     ]
    }
   ],
   "source": [
    "print(dict_4)\n",
    "\n",
    "dict_4[\"three\"] = 3\n",
    "print(dict_4)"
   ]
  },
  {
   "cell_type": "markdown",
   "metadata": {},
   "source": [
    "**Read**"
   ]
  },
  {
   "cell_type": "code",
   "execution_count": 28,
   "metadata": {},
   "outputs": [
    {
     "name": "stdout",
     "output_type": "stream",
     "text": [
      "1\n",
      "2\n",
      "default\n"
     ]
    }
   ],
   "source": [
    "print(dict_4[\"one\"])\n",
    "\n",
    "print(dict_4.get(\"two\"))\n",
    "\n",
    "# if key doesn't exist return default value\n",
    "print(dict_4.get(\"ten\", \"default\"))"
   ]
  },
  {
   "cell_type": "code",
   "execution_count": 24,
   "metadata": {},
   "outputs": [
    {
     "ename": "KeyError",
     "evalue": "'ten'",
     "output_type": "error",
     "traceback": [
      "\u001b[1;31m---------------------------------------------------------------------------\u001b[0m",
      "\u001b[1;31mKeyError\u001b[0m                                  Traceback (most recent call last)",
      "\u001b[1;32m<ipython-input-24-9a2b2d35368f>\u001b[0m in \u001b[0;36m<module>\u001b[1;34m\u001b[0m\n\u001b[0;32m      1\u001b[0m \u001b[1;31m# if key does not exist raise error\u001b[0m\u001b[1;33m\u001b[0m\u001b[1;33m\u001b[0m\u001b[1;33m\u001b[0m\u001b[0m\n\u001b[1;32m----> 2\u001b[1;33m \u001b[0mprint\u001b[0m\u001b[1;33m(\u001b[0m\u001b[0mdict_4\u001b[0m\u001b[1;33m[\u001b[0m\u001b[1;34m\"ten\"\u001b[0m\u001b[1;33m]\u001b[0m\u001b[1;33m)\u001b[0m\u001b[1;33m\u001b[0m\u001b[1;33m\u001b[0m\u001b[0m\n\u001b[0m",
      "\u001b[1;31mKeyError\u001b[0m: 'ten'"
     ]
    }
   ],
   "source": [
    "# if key does not exist raise error\n",
    "print(dict_4[\"ten\"])"
   ]
  },
  {
   "cell_type": "code",
   "execution_count": 25,
   "metadata": {},
   "outputs": [
    {
     "name": "stdout",
     "output_type": "stream",
     "text": [
      "Key doesn't exist\n"
     ]
    }
   ],
   "source": [
    "# we need check if key exists before\n",
    "if \"ten\" in dict_4:\n",
    "    print(dict_4[\"ten\"])\n",
    "else:\n",
    "    print(\"Key doesn't exist\")"
   ]
  },
  {
   "cell_type": "code",
   "execution_count": 19,
   "metadata": {},
   "outputs": [
    {
     "name": "stdout",
     "output_type": "stream",
     "text": [
      "one 1\n",
      "two 2\n",
      "three 3\n"
     ]
    }
   ],
   "source": [
    "for key in dict_4:\n",
    "    print(key, dict_4[key])"
   ]
  },
  {
   "cell_type": "code",
   "execution_count": 22,
   "metadata": {},
   "outputs": [
    {
     "name": "stdout",
     "output_type": "stream",
     "text": [
      "one 1\n",
      "two 2\n",
      "three 3\n"
     ]
    }
   ],
   "source": [
    "for key in dict_4.keys():\n",
    "    print(key, dict_4[key])"
   ]
  },
  {
   "cell_type": "code",
   "execution_count": 20,
   "metadata": {},
   "outputs": [
    {
     "name": "stdout",
     "output_type": "stream",
     "text": [
      "1\n",
      "2\n",
      "3\n"
     ]
    }
   ],
   "source": [
    "for value in dict_4.values():\n",
    "    print(value)"
   ]
  },
  {
   "cell_type": "code",
   "execution_count": 21,
   "metadata": {},
   "outputs": [
    {
     "name": "stdout",
     "output_type": "stream",
     "text": [
      "one 1\n",
      "two 2\n",
      "three 3\n"
     ]
    }
   ],
   "source": [
    "for key, value in dict_4.items():\n",
    "    print(key, value)"
   ]
  },
  {
   "cell_type": "markdown",
   "metadata": {},
   "source": [
    "**Update**"
   ]
  },
  {
   "cell_type": "code",
   "execution_count": 29,
   "metadata": {},
   "outputs": [
    {
     "name": "stdout",
     "output_type": "stream",
     "text": [
      "{'one': 1, 'two': 2, 'three': 3}\n",
      "{'one': 11, 'two': 2, 'three': 3}\n"
     ]
    }
   ],
   "source": [
    "print(dict_4)\n",
    "\n",
    "dict_4[\"one\"] = 11\n",
    "print(dict_4)"
   ]
  },
  {
   "cell_type": "code",
   "execution_count": 30,
   "metadata": {},
   "outputs": [
    {
     "name": "stdout",
     "output_type": "stream",
     "text": [
      "{'one': 11, 'two': 2, 'three': 3}\n",
      "{'one': 11, 'two': 2, 'three': 3, 'four': 4}\n"
     ]
    }
   ],
   "source": [
    "print(dict_4)\n",
    "\n",
    "dict_4.update({\"four\":4})\n",
    "print(dict_4)"
   ]
  },
  {
   "cell_type": "markdown",
   "metadata": {},
   "source": [
    "**Delete**"
   ]
  },
  {
   "cell_type": "code",
   "execution_count": 31,
   "metadata": {},
   "outputs": [
    {
     "name": "stdout",
     "output_type": "stream",
     "text": [
      "{'one': 11, 'two': 2, 'three': 3, 'four': 4}\n",
      "{'two': 2, 'three': 3, 'four': 4}\n"
     ]
    }
   ],
   "source": [
    "print(dict_4)\n",
    "\n",
    "del dict_4[\"one\"]\n",
    "print(dict_4)"
   ]
  },
  {
   "cell_type": "code",
   "execution_count": 32,
   "metadata": {},
   "outputs": [
    {
     "ename": "KeyError",
     "evalue": "'ten'",
     "output_type": "error",
     "traceback": [
      "\u001b[1;31m---------------------------------------------------------------------------\u001b[0m",
      "\u001b[1;31mKeyError\u001b[0m                                  Traceback (most recent call last)",
      "\u001b[1;32m<ipython-input-32-23f6b60036a6>\u001b[0m in \u001b[0;36m<module>\u001b[1;34m\u001b[0m\n\u001b[0;32m      1\u001b[0m \u001b[1;31m# if key doesn't exists return KeyError\u001b[0m\u001b[1;33m\u001b[0m\u001b[1;33m\u001b[0m\u001b[1;33m\u001b[0m\u001b[0m\n\u001b[1;32m----> 2\u001b[1;33m \u001b[1;32mdel\u001b[0m \u001b[0mdict_4\u001b[0m\u001b[1;33m[\u001b[0m\u001b[1;34m\"ten\"\u001b[0m\u001b[1;33m]\u001b[0m\u001b[1;33m\u001b[0m\u001b[1;33m\u001b[0m\u001b[0m\n\u001b[0m",
      "\u001b[1;31mKeyError\u001b[0m: 'ten'"
     ]
    }
   ],
   "source": [
    "# if key doesn't exists return KeyError\n",
    "del dict_4[\"ten\"]"
   ]
  },
  {
   "cell_type": "code",
   "execution_count": 33,
   "metadata": {},
   "outputs": [
    {
     "name": "stdout",
     "output_type": "stream",
     "text": [
      "{'two': 2, 'three': 3, 'four': 4}\n",
      "2\n",
      "{'three': 3, 'four': 4}\n"
     ]
    }
   ],
   "source": [
    "# method pop return element and delete it\n",
    "print(dict_4)\n",
    "\n",
    "element = dict_4.pop(\"two\")\n",
    "print(element)\n",
    "print(dict_4)"
   ]
  },
  {
   "cell_type": "code",
   "execution_count": 34,
   "metadata": {},
   "outputs": [
    {
     "name": "stdout",
     "output_type": "stream",
     "text": [
      "default\n",
      "{'three': 3, 'four': 4}\n"
     ]
    }
   ],
   "source": [
    "# if key doesn't exist method pop can return default value\n",
    "element = dict_4.pop(\"ten\", \"default\")\n",
    "print(element)\n",
    "print(dict_4)"
   ]
  },
  {
   "cell_type": "code",
   "execution_count": 40,
   "metadata": {},
   "outputs": [
    {
     "name": "stdout",
     "output_type": "stream",
     "text": [
      "{1: 'one', 2: 'two', 3: 'three'}\n",
      "(3, 'three')\n",
      "{1: 'one', 2: 'two'}\n"
     ]
    }
   ],
   "source": [
    "# get and remove last item from dict\n",
    "print(dict_5)\n",
    "\n",
    "last_element = dict_5.popitem()\n",
    "print(last_element)\n",
    "print(dict_5)"
   ]
  },
  {
   "cell_type": "code",
   "execution_count": 35,
   "metadata": {},
   "outputs": [
    {
     "name": "stdout",
     "output_type": "stream",
     "text": [
      "{1: 'one', 2: 'two', 3: 'three'}\n",
      "{}\n"
     ]
    }
   ],
   "source": [
    "# delete all elements\n",
    "print(dict_1)\n",
    "\n",
    "dict_1.clear()\n",
    "print(dict_1)"
   ]
  },
  {
   "cell_type": "markdown",
   "metadata": {},
   "source": [
    "## Other dict methods"
   ]
  },
  {
   "cell_type": "markdown",
   "metadata": {},
   "source": [
    "**Copy**"
   ]
  },
  {
   "cell_type": "code",
   "execution_count": 36,
   "metadata": {},
   "outputs": [
    {
     "name": "stdout",
     "output_type": "stream",
     "text": [
      "{'one': 1, 'two': 2, 'three': 3}\n"
     ]
    }
   ],
   "source": [
    "dict_1 = {\"one\": 1, \"two\": 2, \"three\": 3}\n",
    "dict_2 = dict_1.copy()\n",
    "print(dict_2)"
   ]
  },
  {
   "cell_type": "markdown",
   "metadata": {},
   "source": [
    "**Complex dictionaries**"
   ]
  },
  {
   "cell_type": "code",
   "execution_count": 37,
   "metadata": {},
   "outputs": [
    {
     "name": "stdout",
     "output_type": "stream",
     "text": [
      "18\n",
      "bob@mail.ru\n"
     ]
    }
   ],
   "source": [
    "users = {\n",
    "    \"Alice\": {\n",
    "        \"age\": 18,\n",
    "        \"phone\": +79000000001\n",
    "    },\n",
    "    \"Bob\": {\n",
    "        \"age\": 25,\n",
    "        \"phone\": +79000000002,\n",
    "        \"email\": \"bob@mail.ru\"\n",
    "    }\n",
    "}\n",
    "\n",
    "print(users[\"Alice\"][\"age\"])\n",
    "print(users[\"Bob\"][\"email\"])"
   ]
  },
  {
   "cell_type": "markdown",
   "metadata": {},
   "source": [
    "**Setdefault**"
   ]
  },
  {
   "cell_type": "code",
   "execution_count": 42,
   "metadata": {},
   "outputs": [
    {
     "name": "stdout",
     "output_type": "stream",
     "text": [
      "no-reply@mail.ru\n",
      "{'name': 'Alice', 'age': 18, 'email': 'no-reply@mail.ru'}\n"
     ]
    }
   ],
   "source": [
    "# if key does not exist insert key-value to dict\n",
    "user = {\n",
    "    \"name\": \"Alice\",\n",
    "    \"age\": 18\n",
    "}\n",
    "\n",
    "email = user.setdefault(\"email\", \"no-reply@mail.ru\")\n",
    "print(email)\n",
    "print(user)"
   ]
  }
 ],
 "metadata": {
  "kernelspec": {
   "display_name": "Python 3",
   "language": "python",
   "name": "python3"
  },
  "language_info": {
   "codemirror_mode": {
    "name": "ipython",
    "version": 3
   },
   "file_extension": ".py",
   "mimetype": "text/x-python",
   "name": "python",
   "nbconvert_exporter": "python",
   "pygments_lexer": "ipython3",
   "version": "3.7.2"
  }
 },
 "nbformat": 4,
 "nbformat_minor": 2
}
