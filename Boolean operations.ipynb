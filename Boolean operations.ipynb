{
 "cells": [
  {
   "cell_type": "markdown",
   "metadata": {},
   "source": [
    "## Built-in objects considered false"
   ]
  },
  {
   "cell_type": "code",
   "execution_count": 34,
   "metadata": {},
   "outputs": [],
   "source": [
    "from decimal import Decimal\n",
    "from fractions import Fraction\n",
    "\n",
    "if False:\n",
    "    print(\"Not False\")\n",
    "    \n",
    "if None:\n",
    "    print(\"Not False\")\n",
    "    \n",
    "if 0:\n",
    "    print(\"Not False\")\n",
    "    \n",
    "if 0.0:\n",
    "    print(\"Not False\")\n",
    "    \n",
    "if 0j:\n",
    "    print(\"Not False\")\n",
    "    \n",
    "if Decimal(0):\n",
    "    print(\"Not False\")\n",
    "    \n",
    "if Fraction(0):\n",
    "    print(\"Not False\")\n",
    "    \n",
    "if '':\n",
    "    print(\"Not False\")\n",
    "    \n",
    "if ():\n",
    "    print(\"Not False\")\n",
    "    \n",
    "if []:\n",
    "    print(\"Not False\")\n",
    "    \n",
    "if {}:\n",
    "    print(\"Not False\")\n",
    "    \n",
    "if set():\n",
    "    print(\"Not False\")\n",
    "    \n",
    "if range(0):\n",
    "    print(\"Not False\")"
   ]
  },
  {
   "cell_type": "markdown",
   "metadata": {},
   "source": [
    "**Boolean operations - and, or, not**"
   ]
  },
  {
   "cell_type": "code",
   "execution_count": 35,
   "metadata": {},
   "outputs": [
    {
     "data": {
      "text/plain": [
       "{}"
      ]
     },
     "execution_count": 35,
     "metadata": {},
     "output_type": "execute_result"
    }
   ],
   "source": [
    "# chain of false elements with OR return last element\n",
    "a = ()\n",
    "b = []\n",
    "c = {}\n",
    "\n",
    "a or b or c"
   ]
  },
  {
   "cell_type": "code",
   "execution_count": 37,
   "metadata": {},
   "outputs": [
    {
     "data": {
      "text/plain": [
       "()"
      ]
     },
     "execution_count": 37,
     "metadata": {},
     "output_type": "execute_result"
    }
   ],
   "source": [
    "# chain of false elements with AND return first element\n",
    "a = ()\n",
    "b = []\n",
    "c = {}\n",
    "\n",
    "a and b and c"
   ]
  },
  {
   "cell_type": "code",
   "execution_count": 84,
   "metadata": {},
   "outputs": [],
   "source": [
    "# 2\n",
    "a = ''\n",
    "# 6\n",
    "a = ''''''\n",
    "# 8\n",
    "a = ''''''''\n",
    "# 12\n",
    "a = ''''''''''''\n",
    "# 14\n",
    "a = ''''''''''''''\n",
    "# 18\n",
    "a = ''''''''''''''''''"
   ]
  }
 ],
 "metadata": {
  "kernelspec": {
   "display_name": "Python 3",
   "language": "python",
   "name": "python3"
  },
  "language_info": {
   "codemirror_mode": {
    "name": "ipython",
    "version": 3
   },
   "file_extension": ".py",
   "mimetype": "text/x-python",
   "name": "python",
   "nbconvert_exporter": "python",
   "pygments_lexer": "ipython3",
   "version": "3.7.2"
  }
 },
 "nbformat": 4,
 "nbformat_minor": 2
}
