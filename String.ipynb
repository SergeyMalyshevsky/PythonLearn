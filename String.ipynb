{
 "cells": [
  {
   "cell_type": "markdown",
   "metadata": {},
   "source": [
    "# Strings"
   ]
  },
  {
   "cell_type": "markdown",
   "metadata": {},
   "source": [
    "## CRUD"
   ]
  },
  {
   "cell_type": "markdown",
   "metadata": {},
   "source": [
    "**Create**"
   ]
  },
  {
   "cell_type": "code",
   "execution_count": 3,
   "metadata": {},
   "outputs": [
    {
     "name": "stdout",
     "output_type": "stream",
     "text": [
      "Hello\n",
      "Hello\n",
      "HelloHello\n"
     ]
    }
   ],
   "source": [
    "str_1 = \"Hello\"\n",
    "str_2 = 'Hello'\n",
    "str_3 = str_1 + str_2\n",
    "\n",
    "print(str_1)\n",
    "print(str_2)\n",
    "print(str_3)"
   ]
  },
  {
   "cell_type": "markdown",
   "metadata": {},
   "source": [
    "**Read**"
   ]
  },
  {
   "cell_type": "code",
   "execution_count": 4,
   "metadata": {},
   "outputs": [
    {
     "name": "stdout",
     "output_type": "stream",
     "text": [
      "e\n"
     ]
    }
   ],
   "source": [
    "str = \"hello\"\n",
    "print(str[1])"
   ]
  },
  {
   "cell_type": "code",
   "execution_count": 5,
   "metadata": {},
   "outputs": [
    {
     "name": "stdout",
     "output_type": "stream",
     "text": [
      "h\n",
      "e\n",
      "l\n",
      "l\n",
      "o\n"
     ]
    }
   ],
   "source": [
    "for s in str:\n",
    "    print(s)"
   ]
  },
  {
   "cell_type": "code",
   "execution_count": 8,
   "metadata": {},
   "outputs": [
    {
     "name": "stdout",
     "output_type": "stream",
     "text": [
      "lo\n"
     ]
    }
   ],
   "source": [
    "print(str[3:5])"
   ]
  },
  {
   "cell_type": "markdown",
   "metadata": {},
   "source": [
    "**Update**"
   ]
  },
  {
   "cell_type": "code",
   "execution_count": 6,
   "metadata": {},
   "outputs": [
    {
     "ename": "TypeError",
     "evalue": "'str' object does not support item assignment",
     "output_type": "error",
     "traceback": [
      "\u001b[1;31m---------------------------------------------------------------------------\u001b[0m",
      "\u001b[1;31mTypeError\u001b[0m                                 Traceback (most recent call last)",
      "\u001b[1;32m<ipython-input-6-4c3db0ef71c5>\u001b[0m in \u001b[0;36m<module>\u001b[1;34m\u001b[0m\n\u001b[0;32m      1\u001b[0m \u001b[0mstr\u001b[0m \u001b[1;33m=\u001b[0m \u001b[1;34m\"hello\"\u001b[0m\u001b[1;33m\u001b[0m\u001b[1;33m\u001b[0m\u001b[0m\n\u001b[1;32m----> 2\u001b[1;33m \u001b[0mstr\u001b[0m\u001b[1;33m[\u001b[0m\u001b[1;36m1\u001b[0m\u001b[1;33m]\u001b[0m \u001b[1;33m=\u001b[0m \u001b[1;34m\"E\"\u001b[0m\u001b[1;33m\u001b[0m\u001b[1;33m\u001b[0m\u001b[0m\n\u001b[0m\u001b[0;32m      3\u001b[0m \u001b[0mprint\u001b[0m\u001b[1;33m(\u001b[0m\u001b[0mstr\u001b[0m\u001b[1;33m)\u001b[0m\u001b[1;33m\u001b[0m\u001b[1;33m\u001b[0m\u001b[0m\n",
      "\u001b[1;31mTypeError\u001b[0m: 'str' object does not support item assignment"
     ]
    }
   ],
   "source": [
    "str = \"hello\"\n",
    "str[1] = \"E\"\n",
    "print(str)"
   ]
  },
  {
   "cell_type": "markdown",
   "metadata": {},
   "source": [
    "**Delete**"
   ]
  },
  {
   "cell_type": "code",
   "execution_count": 9,
   "metadata": {},
   "outputs": [],
   "source": [
    "del str"
   ]
  },
  {
   "cell_type": "markdown",
   "metadata": {},
   "source": [
    "## Another types of string"
   ]
  },
  {
   "cell_type": "markdown",
   "metadata": {},
   "source": [
    "**Raw strings**\n",
    "![title](img/raw_string.png)"
   ]
  },
  {
   "cell_type": "code",
   "execution_count": 11,
   "metadata": {},
   "outputs": [
    {
     "name": "stdout",
     "output_type": "stream",
     "text": [
      "C:\\new folder\\tools\n",
      "C:\\new folder\\tools\n"
     ]
    }
   ],
   "source": [
    "str_1 = \"C:\\\\new folder\\\\tools\"\n",
    "str_2 = r\"C:\\new folder\\tools\"\n",
    "\n",
    "print(str_1)\n",
    "print(str_2)"
   ]
  },
  {
   "cell_type": "markdown",
   "metadata": {},
   "source": [
    "**Byte strings**\n",
    "![title](img/decode_encode.png)"
   ]
  },
  {
   "cell_type": "code",
   "execution_count": 16,
   "metadata": {},
   "outputs": [
    {
     "name": "stdout",
     "output_type": "stream",
     "text": [
      "b'\\\\uFEFF'\n",
      "69\n",
      "\\uFEFF\n"
     ]
    }
   ],
   "source": [
    "str = b'\\uFEFF'\n",
    "str_1 = str.decode('UTF-8')\n",
    "\n",
    "print(str)\n",
    "print(str[3])\n",
    "print(str_1)"
   ]
  },
  {
   "cell_type": "markdown",
   "metadata": {},
   "source": [
    "**Format strings**"
   ]
  },
  {
   "cell_type": "code",
   "execution_count": 18,
   "metadata": {},
   "outputs": [
    {
     "name": "stdout",
     "output_type": "stream",
     "text": [
      "Her name is Alice. She is 18\n"
     ]
    }
   ],
   "source": [
    "name = 'Alice'\n",
    "age = 18\n",
    "\n",
    "f_str = f'Her name is {name}. She is {age}'\n",
    "print(f_str)"
   ]
  },
  {
   "cell_type": "markdown",
   "metadata": {},
   "source": [
    "## Split and join\n",
    "![title](img/split_join.jpg)"
   ]
  },
  {
   "cell_type": "code",
   "execution_count": 19,
   "metadata": {},
   "outputs": [
    {
     "name": "stdout",
     "output_type": "stream",
     "text": [
      "['one', 'two', 'three', 'four', 'five']\n",
      "['one', 'two', 'three', 'four', 'five']\n"
     ]
    }
   ],
   "source": [
    "str_1 = \"one two three four five\"\n",
    "str_2 = \"one,two,three,four,five\"\n",
    "\n",
    "list_1 = str_1.split()\n",
    "list_2 = str_2.split(',')\n",
    "\n",
    "print(list_1)\n",
    "print(list_2)"
   ]
  },
  {
   "cell_type": "code",
   "execution_count": 20,
   "metadata": {},
   "outputs": [
    {
     "name": "stdout",
     "output_type": "stream",
     "text": [
      "one two three four five\n",
      "one->two->three->four->five\n"
     ]
    }
   ],
   "source": [
    "list_1 = ['one', 'two', 'three', 'four', 'five']\n",
    "\n",
    "str_1 = ' '.join(list_1)\n",
    "str_2 = '->'.join(list_1)\n",
    "\n",
    "print(str_1)\n",
    "print(str_2)"
   ]
  },
  {
   "cell_type": "markdown",
   "metadata": {},
   "source": [
    "## Method format"
   ]
  },
  {
   "cell_type": "code",
   "execution_count": 21,
   "metadata": {},
   "outputs": [
    {
     "name": "stdout",
     "output_type": "stream",
     "text": [
      "Hello, world!\n",
      "Hello, Alice! Hello, Bob!\n",
      "London is the capital of Great Britain\n"
     ]
    }
   ],
   "source": [
    "str_1 = 'Hello, {}!'.format('world')\n",
    "str_2 = 'Hello, {0}! Hello, {1}!'.format('Alice', 'Bob')\n",
    "str_3 = '{city} is the capital of {country}'.format(city='London', country='Great Britain')\n",
    "\n",
    "print(str_1)\n",
    "print(str_2)\n",
    "print(str_3)"
   ]
  },
  {
   "cell_type": "markdown",
   "metadata": {},
   "source": [
    "## Substrings (find, replace)"
   ]
  },
  {
   "cell_type": "code",
   "execution_count": 40,
   "metadata": {},
   "outputs": [
    {
     "name": "stdout",
     "output_type": "stream",
     "text": [
      "Substring is in string\n"
     ]
    }
   ],
   "source": [
    "str_1 = 'one two three four'\n",
    "substr = 'two three'\n",
    "\n",
    "if substr in str_1:\n",
    "    print(\"Substring is in string\")"
   ]
  },
  {
   "cell_type": "code",
   "execution_count": 57,
   "metadata": {},
   "outputs": [
    {
     "name": "stdout",
     "output_type": "stream",
     "text": [
      "4\n",
      "-1\n",
      "0\n",
      "15\n"
     ]
    }
   ],
   "source": [
    "str_1 = 'one two three four'\n",
    "\n",
    "# method find return position of substring or -1\n",
    "print(str_1.find('two'))\n",
    "print(str_1.find('ten'))\n",
    "\n",
    "# difference between find and rfind\n",
    "print(str_1.find('o'))\n",
    "print(str_1.rfind('o'))"
   ]
  },
  {
   "cell_type": "code",
   "execution_count": 54,
   "metadata": {},
   "outputs": [
    {
     "name": "stdout",
     "output_type": "stream",
     "text": [
      "4\n"
     ]
    },
    {
     "ename": "ValueError",
     "evalue": "substring not found",
     "output_type": "error",
     "traceback": [
      "\u001b[1;31m---------------------------------------------------------------------------\u001b[0m",
      "\u001b[1;31mValueError\u001b[0m                                Traceback (most recent call last)",
      "\u001b[1;32m<ipython-input-54-c57f42c32518>\u001b[0m in \u001b[0;36m<module>\u001b[1;34m\u001b[0m\n\u001b[0;32m      3\u001b[0m \u001b[1;31m# method index raise ValueError if substring is not found\u001b[0m\u001b[1;33m\u001b[0m\u001b[1;33m\u001b[0m\u001b[1;33m\u001b[0m\u001b[0m\n\u001b[0;32m      4\u001b[0m \u001b[0mprint\u001b[0m\u001b[1;33m(\u001b[0m\u001b[0mstr_1\u001b[0m\u001b[1;33m.\u001b[0m\u001b[0mindex\u001b[0m\u001b[1;33m(\u001b[0m\u001b[1;34m'two'\u001b[0m\u001b[1;33m)\u001b[0m\u001b[1;33m)\u001b[0m\u001b[1;33m\u001b[0m\u001b[1;33m\u001b[0m\u001b[0m\n\u001b[1;32m----> 5\u001b[1;33m \u001b[0mprint\u001b[0m\u001b[1;33m(\u001b[0m\u001b[0mstr_1\u001b[0m\u001b[1;33m.\u001b[0m\u001b[0mindex\u001b[0m\u001b[1;33m(\u001b[0m\u001b[1;34m'ten'\u001b[0m\u001b[1;33m)\u001b[0m\u001b[1;33m)\u001b[0m\u001b[1;33m\u001b[0m\u001b[1;33m\u001b[0m\u001b[0m\n\u001b[0m",
      "\u001b[1;31mValueError\u001b[0m: substring not found"
     ]
    }
   ],
   "source": [
    "str_1 = 'one two three four'\n",
    "\n",
    "# method index raise ValueError if substring is not found\n",
    "print(str_1.index('two'))\n",
    "print(str_1.index('ten'))"
   ]
  },
  {
   "cell_type": "code",
   "execution_count": 42,
   "metadata": {},
   "outputs": [
    {
     "name": "stdout",
     "output_type": "stream",
     "text": [
      "one two 3 four\n"
     ]
    }
   ],
   "source": [
    "str_1 = 'one two three four'\n",
    "\n",
    "str_2 = str_1.replace('three', '3')\n",
    "print(str_2)"
   ]
  },
  {
   "cell_type": "code",
   "execution_count": 45,
   "metadata": {},
   "outputs": [
    {
     "name": "stdout",
     "output_type": "stream",
     "text": [
      "3\n"
     ]
    }
   ],
   "source": [
    "# count of substring in string\n",
    "str_1 = \"one two one two one two three\"\n",
    "\n",
    "print(str_1.count(\"one\"))"
   ]
  },
  {
   "cell_type": "markdown",
   "metadata": {},
   "source": [
    "## Other string methods"
   ]
  },
  {
   "cell_type": "markdown",
   "metadata": {},
   "source": [
    "**Strip**"
   ]
  },
  {
   "cell_type": "code",
   "execution_count": 28,
   "metadata": {},
   "outputs": [
    {
     "name": "stdout",
     "output_type": "stream",
     "text": [
      "source: | hello |\n",
      "strip:  |hello|\n",
      "rstrip: | hello|\n",
      "lstrip: |hello |\n"
     ]
    }
   ],
   "source": [
    "str_1 = ' hello '\n",
    "\n",
    "print('source: ' + '|' + str_1 + '|')\n",
    "print('strip:  ' + '|' + str_1.strip() + '|')\n",
    "print('rstrip: ' + '|' + str_1.rstrip() + '|')\n",
    "print('lstrip: ' + '|' + str_1.lstrip() + '|')"
   ]
  },
  {
   "cell_type": "markdown",
   "metadata": {},
   "source": [
    "**End with and start with**"
   ]
  },
  {
   "cell_type": "code",
   "execution_count": 32,
   "metadata": {},
   "outputs": [
    {
     "name": "stdout",
     "output_type": "stream",
     "text": [
      "True\n",
      "True\n"
     ]
    }
   ],
   "source": [
    "str_1 = \"Hello, world!\"\n",
    "\n",
    "print(str_1.startswith('Hello'))\n",
    "print(str_1.endswith('world!'))"
   ]
  },
  {
   "cell_type": "markdown",
   "metadata": {},
   "source": [
    "**Upper, lower, capitalize, title**"
   ]
  },
  {
   "cell_type": "code",
   "execution_count": 38,
   "metadata": {},
   "outputs": [
    {
     "name": "stdout",
     "output_type": "stream",
     "text": [
      "Upper:      AB CD 123\n",
      "Lower:      ab cd 123\n",
      "Capitalize: Ab cd 123\n"
     ]
    }
   ],
   "source": [
    "str_1 = \"aB Cd 123\"\n",
    "\n",
    "print(\"Upper:      \" + str_1.upper())\n",
    "print(\"Lower:      \" + str_1.lower())\n",
    "print(\"Capitalize: \" + str_1.capitalize())"
   ]
  },
  {
   "cell_type": "code",
   "execution_count": 39,
   "metadata": {},
   "outputs": [
    {
     "name": "stdout",
     "output_type": "stream",
     "text": [
      "True False False\n",
      "False True False\n"
     ]
    }
   ],
   "source": [
    "str_1 = \"ABCD\"\n",
    "str_2 = \"abcd\"\n",
    "str_3 = \"Abcd\"\n",
    "\n",
    "print(str_1.isupper(), str_2.isupper(), str_3.isupper())\n",
    "print(str_1.islower(), str_2.islower(), str_3.islower())"
   ]
  },
  {
   "cell_type": "code",
   "execution_count": 47,
   "metadata": {},
   "outputs": [
    {
     "name": "stdout",
     "output_type": "stream",
     "text": [
      "One Two Three Four Five\n"
     ]
    }
   ],
   "source": [
    "str_1 = \"one two three four five\"\n",
    "\n",
    "print(str_1.title())"
   ]
  },
  {
   "cell_type": "markdown",
   "metadata": {},
   "source": [
    "**Length of string**"
   ]
  },
  {
   "cell_type": "code",
   "execution_count": 44,
   "metadata": {},
   "outputs": [
    {
     "name": "stdout",
     "output_type": "stream",
     "text": [
      "13\n"
     ]
    }
   ],
   "source": [
    "str_1 = \"Hello, world!\"\n",
    "\n",
    "print(len(str_1))"
   ]
  },
  {
   "cell_type": "markdown",
   "metadata": {},
   "source": [
    "**Check if string is digit or alpha**"
   ]
  },
  {
   "cell_type": "code",
   "execution_count": 50,
   "metadata": {},
   "outputs": [
    {
     "name": "stdout",
     "output_type": "stream",
     "text": [
      "True False False\n",
      "False True False\n"
     ]
    }
   ],
   "source": [
    "str_1 = 'Hello'\n",
    "str_2 = '123'\n",
    "str_3 = 'hello world'\n",
    "\n",
    "print(str_1.isalpha(), str_2.isalpha(), str_3.isalpha())\n",
    "print(str_1.isdigit(), str_2.isdigit(), str_3.isdigit())"
   ]
  },
  {
   "cell_type": "code",
   "execution_count": 53,
   "metadata": {},
   "outputs": [
    {
     "name": "stdout",
     "output_type": "stream",
     "text": [
      "True\n",
      "True\n",
      "True\n"
     ]
    }
   ],
   "source": [
    "# difference between methods is in special unicode characters\n",
    "str_1 = '12345'\n",
    "\n",
    "print(str_1.isdigit())\n",
    "print(str_1.isnumeric())\n",
    "print(str_1.isdecimal())"
   ]
  },
  {
   "cell_type": "markdown",
   "metadata": {},
   "source": [
    "**Add spaces to start, end or both**"
   ]
  },
  {
   "cell_type": "code",
   "execution_count": 58,
   "metadata": {},
   "outputs": [
    {
     "name": "stdout",
     "output_type": "stream",
     "text": [
      "ljust:  |abc    |\n",
      "rjust:  |    abc|\n",
      "center: |  abc  |\n"
     ]
    }
   ],
   "source": [
    "str_1 = 'abc'\n",
    "\n",
    "print('ljust:  ' + '|' + str_1.ljust(7) + '|')\n",
    "print('rjust:  ' + '|' + str_1.rjust(7) + '|')\n",
    "print('center: ' + '|' + str_1.center(7) + '|')"
   ]
  }
 ],
 "metadata": {
  "kernelspec": {
   "display_name": "Python 3",
   "language": "python",
   "name": "python3"
  },
  "language_info": {
   "codemirror_mode": {
    "name": "ipython",
    "version": 3
   },
   "file_extension": ".py",
   "mimetype": "text/x-python",
   "name": "python",
   "nbconvert_exporter": "python",
   "pygments_lexer": "ipython3",
   "version": "3.7.2"
  }
 },
 "nbformat": 4,
 "nbformat_minor": 2
}
