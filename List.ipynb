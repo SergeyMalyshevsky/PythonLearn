{
 "cells": [
  {
   "cell_type": "markdown",
   "metadata": {},
   "source": [
    "# Lists"
   ]
  },
  {
   "cell_type": "markdown",
   "metadata": {},
   "source": [
    "## CRUD"
   ]
  },
  {
   "cell_type": "markdown",
   "metadata": {},
   "source": [
    "**Create**"
   ]
  },
  {
   "cell_type": "code",
   "execution_count": 9,
   "metadata": {},
   "outputs": [
    {
     "name": "stdout",
     "output_type": "stream",
     "text": [
      "[1, 2, 3, 4, 5]\n",
      "[1, 2, 3, 4, 5]\n",
      "[1, 'two', True, 4.0, [5, 6, 7]]\n"
     ]
    }
   ],
   "source": [
    "list_1 = [1, 2, 3, 4, 5]\n",
    "list_2 = list(list_1)\n",
    "# list can consist from elements of different types\n",
    "dif_types_list = [1, 'two', True, 4.0, [5, 6, 7]]\n",
    "\n",
    "print(list_1)\n",
    "print(list_2)\n",
    "print(dif_types_list)"
   ]
  },
  {
   "cell_type": "markdown",
   "metadata": {},
   "source": [
    "**Add**"
   ]
  },
  {
   "cell_type": "code",
   "execution_count": 4,
   "metadata": {},
   "outputs": [
    {
     "name": "stdout",
     "output_type": "stream",
     "text": [
      "[1, 2, 3, 4, 5, 99]\n"
     ]
    }
   ],
   "source": [
    "list_1.append(99)\n",
    "print(list_1)"
   ]
  },
  {
   "cell_type": "code",
   "execution_count": 5,
   "metadata": {},
   "outputs": [
    {
     "name": "stdout",
     "output_type": "stream",
     "text": [
      "[0, 1, 2, 3, 4, 5, 99]\n"
     ]
    }
   ],
   "source": [
    "list_1.insert(0, 0)\n",
    "print(list_1)"
   ]
  },
  {
   "cell_type": "code",
   "execution_count": 6,
   "metadata": {},
   "outputs": [
    {
     "name": "stdout",
     "output_type": "stream",
     "text": [
      "[1, 2, 3, 4, 5, 0, 1, 2, 3, 4, 5, 99]\n"
     ]
    }
   ],
   "source": [
    "list_2.extend(list_1)\n",
    "print(list_2)"
   ]
  },
  {
   "cell_type": "markdown",
   "metadata": {},
   "source": [
    "**Read**"
   ]
  },
  {
   "cell_type": "code",
   "execution_count": 7,
   "metadata": {},
   "outputs": [
    {
     "name": "stdout",
     "output_type": "stream",
     "text": [
      "0\n",
      "1\n",
      "2\n",
      "3\n",
      "4\n",
      "5\n",
      "99\n"
     ]
    }
   ],
   "source": [
    "for i in list_1:\n",
    "    print(i)"
   ]
  },
  {
   "cell_type": "code",
   "execution_count": 8,
   "metadata": {},
   "outputs": [
    {
     "name": "stdout",
     "output_type": "stream",
     "text": [
      "0\n",
      "1\n",
      "2\n",
      "3\n",
      "4\n",
      "5\n",
      "99\n"
     ]
    }
   ],
   "source": [
    "i = 0\n",
    "while i < len(list_1):\n",
    "    print(list_1[i])\n",
    "    i += 1"
   ]
  },
  {
   "cell_type": "code",
   "execution_count": 5,
   "metadata": {},
   "outputs": [
    {
     "name": "stdout",
     "output_type": "stream",
     "text": [
      "3\n"
     ]
    }
   ],
   "source": [
    "print(list_1[3])"
   ]
  },
  {
   "cell_type": "code",
   "execution_count": 6,
   "metadata": {},
   "outputs": [
    {
     "name": "stdout",
     "output_type": "stream",
     "text": [
      "6\n"
     ]
    }
   ],
   "source": [
    "# get index by element value\n",
    "print(list_1.index(99))"
   ]
  },
  {
   "cell_type": "markdown",
   "metadata": {},
   "source": [
    "**Update**"
   ]
  },
  {
   "cell_type": "code",
   "execution_count": 8,
   "metadata": {},
   "outputs": [
    {
     "name": "stdout",
     "output_type": "stream",
     "text": [
      "[0, 1, 22, 3, 4, 5, 99]\n"
     ]
    }
   ],
   "source": [
    "list_1[2] = 22\n",
    "print(list_1)"
   ]
  },
  {
   "cell_type": "markdown",
   "metadata": {},
   "source": [
    "**Delete**"
   ]
  },
  {
   "cell_type": "code",
   "execution_count": 9,
   "metadata": {},
   "outputs": [
    {
     "name": "stdout",
     "output_type": "stream",
     "text": [
      "[1, 22, 3, 4, 5, 99]\n"
     ]
    }
   ],
   "source": [
    "del list_1[0]\n",
    "print(list_1)"
   ]
  },
  {
   "cell_type": "code",
   "execution_count": 5,
   "metadata": {},
   "outputs": [
    {
     "name": "stdout",
     "output_type": "stream",
     "text": [
      "[1, 2, 3, 4, 5]\n",
      "3\n",
      "[1, 2, 4, 5]\n"
     ]
    }
   ],
   "source": [
    "# get element by position and delete it\n",
    "print(list_2)\n",
    "item = list_2.pop(2)\n",
    "print(item)\n",
    "print(list_2)"
   ]
  },
  {
   "cell_type": "code",
   "execution_count": 7,
   "metadata": {},
   "outputs": [
    {
     "name": "stdout",
     "output_type": "stream",
     "text": [
      "[1, 2, 4, 5]\n",
      "[1, 2, 5]\n"
     ]
    }
   ],
   "source": [
    "# delete item by value\n",
    "print(list_2)\n",
    "list_2.remove(4)\n",
    "print(list_2)"
   ]
  },
  {
   "cell_type": "code",
   "execution_count": 8,
   "metadata": {},
   "outputs": [
    {
     "name": "stdout",
     "output_type": "stream",
     "text": [
      "[]\n"
     ]
    }
   ],
   "source": [
    "# delete all elements\n",
    "list_2.clear()\n",
    "print(list_2)"
   ]
  },
  {
   "cell_type": "markdown",
   "metadata": {},
   "source": [
    "## Other operations"
   ]
  },
  {
   "cell_type": "markdown",
   "metadata": {},
   "source": [
    "### Count of elements"
   ]
  },
  {
   "cell_type": "code",
   "execution_count": 7,
   "metadata": {},
   "outputs": [
    {
     "name": "stdout",
     "output_type": "stream",
     "text": [
      "7\n"
     ]
    }
   ],
   "source": [
    "# count of all elements in list\n",
    "lenght = len(list_1)\n",
    "print(lenght)"
   ]
  },
  {
   "cell_type": "code",
   "execution_count": 8,
   "metadata": {},
   "outputs": [
    {
     "name": "stdout",
     "output_type": "stream",
     "text": [
      "1\n"
     ]
    }
   ],
   "source": [
    "# count of element with value 99\n",
    "count = list_1.count(99)\n",
    "print(count)"
   ]
  },
  {
   "cell_type": "markdown",
   "metadata": {},
   "source": [
    "### Reversed list"
   ]
  },
  {
   "cell_type": "code",
   "execution_count": 16,
   "metadata": {},
   "outputs": [
    {
     "name": "stdout",
     "output_type": "stream",
     "text": [
      "<list_reverseiterator object at 0x0000000006B96470>\n",
      "Reversed: [99, 5, 4, 3, 2, 1, 0]\n",
      "Source: [0, 1, 2, 3, 4, 5, 99]\n"
     ]
    }
   ],
   "source": [
    "reversed_list = reversed(list_1)\n",
    "\n",
    "print(reversed_list)\n",
    "print('Reversed: ', end='')\n",
    "print(list(reversed_list))\n",
    "\n",
    "print('Source: ', end='')\n",
    "print(list_1)"
   ]
  },
  {
   "cell_type": "code",
   "execution_count": 17,
   "metadata": {},
   "outputs": [
    {
     "name": "stdout",
     "output_type": "stream",
     "text": [
      "[99, 5, 4, 3, 2, 1, 0]\n"
     ]
    }
   ],
   "source": [
    "# changed source list\n",
    "list_1.reverse()\n",
    "print(list_1)"
   ]
  },
  {
   "cell_type": "markdown",
   "metadata": {},
   "source": [
    "### Sort list"
   ]
  },
  {
   "cell_type": "code",
   "execution_count": 19,
   "metadata": {},
   "outputs": [
    {
     "name": "stdout",
     "output_type": "stream",
     "text": [
      "Sorted: [0, 1, 2, 3, 4, 5, 99]\n",
      "Source: [99, 5, 4, 3, 2, 1, 0]\n"
     ]
    }
   ],
   "source": [
    "sorted_list = sorted(list_1)\n",
    "\n",
    "print('Sorted: ', end='')\n",
    "print(sorted_list)\n",
    "print('Source: ', end='')\n",
    "print(list_1)"
   ]
  },
  {
   "cell_type": "code",
   "execution_count": 20,
   "metadata": {},
   "outputs": [
    {
     "name": "stdout",
     "output_type": "stream",
     "text": [
      "[0, 1, 2, 3, 4, 5, 99]\n"
     ]
    }
   ],
   "source": [
    "# changed source list\n",
    "list_1.sort()\n",
    "print(list_1)"
   ]
  },
  {
   "cell_type": "markdown",
   "metadata": {},
   "source": [
    "### Copy list\n",
    "\n",
    "![title](img/shallow_copy.jpg)"
   ]
  },
  {
   "cell_type": "markdown",
   "metadata": {},
   "source": [
    "**Shallow copy**"
   ]
  },
  {
   "cell_type": "code",
   "execution_count": 16,
   "metadata": {},
   "outputs": [
    {
     "name": "stdout",
     "output_type": "stream",
     "text": [
      "Source list: [[0, 1], 2, 3]\n",
      "Copied list 1: [[0, 1], 2, 3]\n",
      "Copied list 2: [[0, 1], 2, 3]\n",
      "\n",
      "Change references object value\n",
      "Source list: [[99, 1], 2, 3]\n",
      "Copied list 1: [[99, 1], 2, 3]\n",
      "Copied list 2: [[99, 1], 2, 3]\n"
     ]
    }
   ],
   "source": [
    "a = [0, 1]\n",
    "list_3 = [a, 2, 3]\n",
    "print('Source list: ', end='')\n",
    "print(list_3)\n",
    "\n",
    "# method 1\n",
    "list_3_copy = list_3.copy()\n",
    "# method 2\n",
    "list_3_copy_2 = list_3[:]\n",
    "\n",
    "print('Copied list 1: ', end='')\n",
    "print(list_3_copy)\n",
    "print('Copied list 2: ', end='')\n",
    "print(list_3_copy_2)\n",
    "\n",
    "print()\n",
    "print('Change references object value')\n",
    "a[0] = 99\n",
    "print('Source list: ', end='')\n",
    "print(list_3)\n",
    "print('Copied list 1: ', end='')\n",
    "print(list_3_copy)\n",
    "print('Copied list 2: ', end='')\n",
    "print(list_3_copy_2)"
   ]
  },
  {
   "cell_type": "markdown",
   "metadata": {},
   "source": [
    "**Deep copy**"
   ]
  },
  {
   "cell_type": "code",
   "execution_count": 17,
   "metadata": {},
   "outputs": [
    {
     "name": "stdout",
     "output_type": "stream",
     "text": [
      "Source list: [[0, 1], 2, 3]\n",
      "Copied list: [[0, 1], 2, 3]\n",
      "\n",
      "Change references object value\n",
      "Source list: [[99, 1], 2, 3]\n",
      "Copied list: [[0, 1], 2, 3]\n"
     ]
    }
   ],
   "source": [
    "from copy import deepcopy\n",
    "\n",
    "a = [0, 1]\n",
    "list_3 = [a, 2, 3]\n",
    "print('Source list: ', end='')\n",
    "print(list_3)\n",
    "\n",
    "# method 1\n",
    "list_3_copy = deepcopy(list_3)\n",
    "\n",
    "print('Copied list: ', end='')\n",
    "print(list_3_copy)\n",
    "\n",
    "print()\n",
    "print('Change references object value')\n",
    "a[0] = 99\n",
    "print('Source list: ', end='')\n",
    "print(list_3)\n",
    "print('Copied list: ', end='')\n",
    "print(list_3_copy)"
   ]
  }
 ],
 "metadata": {
  "kernelspec": {
   "display_name": "Python 3",
   "language": "python",
   "name": "python3"
  },
  "language_info": {
   "codemirror_mode": {
    "name": "ipython",
    "version": 3
   },
   "file_extension": ".py",
   "mimetype": "text/x-python",
   "name": "python",
   "nbconvert_exporter": "python",
   "pygments_lexer": "ipython3",
   "version": "3.6.3"
  }
 },
 "nbformat": 4,
 "nbformat_minor": 2
}
